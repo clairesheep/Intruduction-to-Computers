{
  "nbformat": 4,
  "nbformat_minor": 0,
  "metadata": {
    "colab": {
      "name": "0511.ipynb",
      "provenance": [],
      "collapsed_sections": [],
      "authorship_tag": "ABX9TyN+hMuO3MbxQJgezxoJMQai",
      "include_colab_link": true
    },
    "kernelspec": {
      "name": "python3",
      "display_name": "Python 3"
    },
    "language_info": {
      "name": "python"
    }
  },
  "cells": [
    {
      "cell_type": "markdown",
      "metadata": {
        "id": "view-in-github",
        "colab_type": "text"
      },
      "source": [
        "<a href=\"https://colab.research.google.com/github/clairesheep/Intruduction-to-Computers/blob/main/0511.ipynb\" target=\"_parent\"><img src=\"https://colab.research.google.com/assets/colab-badge.svg\" alt=\"Open In Colab\"/></a>"
      ]
    },
    {
      "cell_type": "code",
      "execution_count": 1,
      "metadata": {
        "colab": {
          "base_uri": "https://localhost:8080/"
        },
        "id": "kFpudvpVg4iK",
        "outputId": "0144e799-32f7-4ef8-8295-a14ebed6fff4"
      },
      "outputs": [
        {
          "output_type": "stream",
          "name": "stdout",
          "text": [
            "test\n"
          ]
        }
      ],
      "source": [
        "print(\"test\")"
      ]
    },
    {
      "cell_type": "code",
      "source": [
        "temp = float(input('請輸入你的體溫'))\n",
        "if temp >= 37.5:\n",
        "    print('體溫過高!')\n",
        "elif temp >= 37 and temp < 37.4:\n",
        "    print('體溫略高!')\n",
        "elif temp >= 34 and temp < 36.9:\n",
        "    print('體溫正常!')\n",
        "else:\n",
        "    print('體溫異常，請重新量測!')"
      ],
      "metadata": {
        "colab": {
          "base_uri": "https://localhost:8080/"
        },
        "id": "ZS-FH8hVhAO0",
        "outputId": "16008348-9236-473e-ef52-4fe4ef8059eb"
      },
      "execution_count": 2,
      "outputs": [
        {
          "output_type": "stream",
          "name": "stdout",
          "text": [
            "請輸入你的體溫34\n",
            "體溫正常!\n"
          ]
        }
      ]
    },
    {
      "cell_type": "code",
      "source": [
        "temp = float(input('請輸入你的體溫'))\n",
        "if temp >= 37.5:\n",
        "    print('體溫過高!')\n",
        "elif temp >= 37 and temp < 37.4:\n",
        "    print('體溫略高!')\n",
        "elif temp >= 34 and temp < 36.9:\n",
        "    print('體溫正常!')\n",
        "else:\n",
        "    print('體溫異常，請重新量測!')"
      ],
      "metadata": {
        "colab": {
          "base_uri": "https://localhost:8080/"
        },
        "id": "G6jINziygXT0",
        "outputId": "cd7a7e8d-ec88-44be-f0f8-e8d4f5dbfda4"
      },
      "execution_count": 22,
      "outputs": [
        {
          "output_type": "stream",
          "name": "stdout",
          "text": [
            "請輸入你的體溫32.8\n",
            "體溫異常，請重新量測!\n"
          ]
        }
      ]
    },
    {
      "cell_type": "code",
      "source": [
        "money = int(input('請輸入購物金額:'))\n",
        "if (money >= 10000):\n",
        "  if (money >= 100000):\n",
        "    print('八折',money * 0.8,end = '元\\n')\n",
        "else:\n",
        "    print('沒打折',money,end = '元\\n')"
      ],
      "metadata": {
        "colab": {
          "base_uri": "https://localhost:8080/"
        },
        "id": "0uB73hLZjqJU",
        "outputId": "6ed9b75f-7de4-4764-8d4a-f9c5ee84401b"
      },
      "execution_count": 3,
      "outputs": [
        {
          "output_type": "stream",
          "name": "stdout",
          "text": [
            "請輸入購物金額:100000\n",
            "八折 80000.0元\n"
          ]
        }
      ]
    },
    {
      "cell_type": "code",
      "source": [
        "money = int(input('請輸入購物金額:'))\n",
        "if (money >= 10000):\n",
        "  if (money >= 100000):\n",
        "    print('八折',money * 0.8,end = '元\\n')\n",
        "  elif (money >= 50000):\n",
        "    print('八五折',money * 0.85,end = '元\\n')\n",
        "  elif (money >= 30000):\n",
        "    print('九折',money * 0.9,end = '元\\n')\n",
        "  else:\n",
        "    print('九五折',money * 0.95,end = '元\\n')\n",
        "else:\n",
        "    print('沒打折',money,end = '元\\n')"
      ],
      "metadata": {
        "colab": {
          "base_uri": "https://localhost:8080/"
        },
        "id": "phnbLnGGnGP9",
        "outputId": "7212fa8f-0088-4174-cba8-d5f0e1cfdafe"
      },
      "execution_count": 9,
      "outputs": [
        {
          "output_type": "stream",
          "name": "stdout",
          "text": [
            "請輸入購物金額:100\n",
            "沒打折 100元\n"
          ]
        }
      ]
    },
    {
      "cell_type": "code",
      "source": [
        "money = int(input('請輸入購物金額:'))\n",
        "if (money >= 10000):\n",
        "  if (money >= 100000):\n",
        "    print('八折',money * 0.8,end = '元\\n')\n",
        "  elif (money >= 50000):\n",
        "    print('八五折',money * 0.85,end = '元\\n')\n",
        "  elif (money >= 30000):\n",
        "    print('九折',money * 0.9,end = '元\\n')\n",
        "  else:\n",
        "    print('九五折',money * 0.95,end = '元\\n')\n",
        "else:\n",
        "    print('沒打折',money,end = '元\\n')"
      ],
      "metadata": {
        "colab": {
          "base_uri": "https://localhost:8080/"
        },
        "id": "XBN0Wob_o17i",
        "outputId": "45b5b267-8384-4812-e33c-d41498c83c67"
      },
      "execution_count": 10,
      "outputs": [
        {
          "output_type": "stream",
          "name": "stdout",
          "text": [
            "請輸入購物金額:100000\n",
            "八折 80000.0元\n"
          ]
        }
      ]
    },
    {
      "cell_type": "code",
      "source": [
        "score = int(input('請輸入成績'))\n",
        "if (score >= 60):\n",
        "  if (score >= 90):\n",
        "    print('A')\n",
        "  elif (score >= 80 and score < 90):\n",
        "    print('B')\n",
        "  elif (score >= 70 and score < 80):\n",
        "    print('C')\n",
        "  else:\n",
        "    print('D')\n",
        "else:\n",
        "  print('E')"
      ],
      "metadata": {
        "colab": {
          "base_uri": "https://localhost:8080/"
        },
        "id": "6HuGmAdpqMJQ",
        "outputId": "48dafafc-5001-426c-c92b-4713814b0c4c"
      },
      "execution_count": 11,
      "outputs": [
        {
          "output_type": "stream",
          "name": "stdout",
          "text": [
            "請輸入成績90\n",
            "A\n"
          ]
        }
      ]
    },
    {
      "cell_type": "code",
      "source": [
        "score = int(input('請輸入成績'))\n",
        "if (score >= 60):\n",
        "  if (score >= 90):\n",
        "    print('A')\n",
        "  elif (score >= 80 and score < 90):\n",
        "    print('B')\n",
        "  elif (score >= 70 and score < 80):\n",
        "    print('C')\n",
        "  else:\n",
        "    print('D')\n",
        "else:\n",
        "  print('E')"
      ],
      "metadata": {
        "colab": {
          "base_uri": "https://localhost:8080/"
        },
        "id": "YL-7TKBPscYB",
        "outputId": "c0dea053-0aad-4c14-b3a8-169b60077e94"
      },
      "execution_count": 12,
      "outputs": [
        {
          "output_type": "stream",
          "name": "stdout",
          "text": [
            "請輸入成績80\n",
            "B\n"
          ]
        }
      ]
    },
    {
      "cell_type": "code",
      "source": [
        "score = int(input('請輸入成績'))\n",
        "if (score >= 60):\n",
        "  if (score >= 90):\n",
        "    print('A')\n",
        "  elif (score >= 80 and score < 90):\n",
        "    print('B')\n",
        "  elif (score >= 70 and score < 80):\n",
        "    print('C')\n",
        "  else:\n",
        "    print('D')\n",
        "else:\n",
        "  print('E')"
      ],
      "metadata": {
        "colab": {
          "base_uri": "https://localhost:8080/"
        },
        "id": "Ie0ONB1UsgTd",
        "outputId": "76a5fec7-3fec-4fa5-89d0-bec4d2ee9bf9"
      },
      "execution_count": 13,
      "outputs": [
        {
          "output_type": "stream",
          "name": "stdout",
          "text": [
            "請輸入成績50\n",
            "E\n"
          ]
        }
      ]
    },
    {
      "cell_type": "code",
      "source": [
        "month = int(input('請輸入月份:'))\n",
        "if month >= 1 and month <= 12 :\n",
        "  if month >= 3 and month <= 5:\n",
        "    print(month,'月是春天!')\n",
        "  elif month >= 6 and month <= 8:\n",
        "    print(month,'月是夏天!')\n",
        "  elif month >= 9 and month <= 11:\n",
        "    print(month,'月是秋天!')\n",
        "  else:\n",
        "    print(month,'月是冬天!')\n",
        "else:\n",
        "    print('月份不在範圍內!')"
      ],
      "metadata": {
        "colab": {
          "base_uri": "https://localhost:8080/"
        },
        "id": "XJe6cw8ZsiUc",
        "outputId": "8406d6dc-9fa5-46eb-ae6e-1b5ac9e4d0b6"
      },
      "execution_count": 15,
      "outputs": [
        {
          "output_type": "stream",
          "name": "stdout",
          "text": [
            "請輸入月份:12\n",
            "12 月是冬天!\n"
          ]
        }
      ]
    },
    {
      "cell_type": "code",
      "source": [
        "month = int(input('請輸入月份:'))\n",
        "if month >= 1 and month <= 12 :\n",
        "  if month >= 3 and month <= 5:\n",
        "    print(month,'月是春天!')\n",
        "  elif month >= 6 and month <= 8:\n",
        "    print(month,'月是夏天!')\n",
        "  elif month >= 9 and month <= 11:\n",
        "    print(month,'月是秋天!')\n",
        "  else:\n",
        "    print(month,'月是冬天!')\n",
        "else:\n",
        "    print('月份不在範圍內!')"
      ],
      "metadata": {
        "colab": {
          "base_uri": "https://localhost:8080/"
        },
        "id": "5GvmZLGEdqdr",
        "outputId": "cfd2b5b4-2977-4fbf-a7f8-8b1475bc2ed3"
      },
      "execution_count": 18,
      "outputs": [
        {
          "output_type": "stream",
          "name": "stdout",
          "text": [
            "請輸入月份:8\n",
            "8 月是夏天!\n"
          ]
        }
      ]
    },
    {
      "cell_type": "code",
      "source": [
        "month = int(input('請輸入月份:'))\n",
        "if month >= 1 and month <= 12 :\n",
        "  if month >= 3 and month <= 5:\n",
        "    print(month,'月是春天!')\n",
        "  elif month >= 6 and month <= 8:\n",
        "    print(month,'月是夏天!')\n",
        "  elif month >= 9 and month <= 11:\n",
        "    print(month,'月是秋天!')\n",
        "  else:\n",
        "    print(month,'月是冬天!')\n",
        "else:\n",
        "    print('月份不在範圍內!')"
      ],
      "metadata": {
        "colab": {
          "base_uri": "https://localhost:8080/"
        },
        "id": "kcB6B0qNd1bD",
        "outputId": "5142ca08-af3a-4c34-96aa-6d3a5dba5e65"
      },
      "execution_count": 19,
      "outputs": [
        {
          "output_type": "stream",
          "name": "stdout",
          "text": [
            "請輸入月份:13\n",
            "月份不在範圍內!\n"
          ]
        }
      ]
    },
    {
      "cell_type": "code",
      "source": [
        "收入 = int(input('請輸入今年收入淨額: '))\n",
        "if (收入 >= 300000):\n",
        "  if (收入 >= 2000000):\n",
        "    print('付稅金額: ',收入 * 0.3,end = '元\\n')\n",
        "  elif (收入 >= 1000000):\n",
        "    print('付稅金額: ',收入 * 0.21,end = '元\\n')\n",
        "  elif (收入 >= 600000):\n",
        "    print('付稅金額: ',收入 * 0.13,end = '元\\n')\n",
        "  else:\n",
        "    print('付稅金額: ',收入 * 0.06,end = '元\\n')\n",
        "else:\n",
        "    print('付稅金額: ',收入 * 0,end = '元\\n')"
      ],
      "metadata": {
        "id": "V6y-8-AUwGkE",
        "colab": {
          "base_uri": "https://localhost:8080/"
        },
        "outputId": "2aaab652-e7d1-455a-9579-279447a29f9d"
      },
      "execution_count": 20,
      "outputs": [
        {
          "output_type": "stream",
          "name": "stdout",
          "text": [
            "請輸入今年收入淨額: 100000\n",
            "付稅金額:  0元\n"
          ]
        }
      ]
    },
    {
      "cell_type": "code",
      "source": [
        "收入 = int(input('請輸入今年收入淨額: '))\n",
        "if (收入 >= 300000):\n",
        "  if (收入 >= 2000000):\n",
        "    print('付稅金額: ',收入 * 0.3,end = '元\\n')\n",
        "  elif (收入 >= 1000000):\n",
        "    print('付稅金額: ',收入 * 0.21,end = '元\\n')\n",
        "  elif (收入 >= 600000):\n",
        "    print('付稅金額: ',收入 * 0.13,end = '元\\n')\n",
        "  else:\n",
        "    print('付稅金額: ',收入 * 0.06,end = '元\\n')\n",
        "else:\n",
        "    print('付稅金額: ',收入 * 0,end = '元\\n')"
      ],
      "metadata": {
        "colab": {
          "base_uri": "https://localhost:8080/"
        },
        "id": "L3IoeqB4f6XB",
        "outputId": "56dfc64b-fe25-4268-cd57-6a9da05ee579"
      },
      "execution_count": 21,
      "outputs": [
        {
          "output_type": "stream",
          "name": "stdout",
          "text": [
            "請輸入今年收入淨額: 2000000\n",
            "付稅金額:  600000.0元\n"
          ]
        }
      ]
    }
  ]
}