{
  "nbformat": 4,
  "nbformat_minor": 0,
  "metadata": {
    "colab": {
      "name": "0518.ipynb",
      "provenance": [],
      "authorship_tag": "ABX9TyNY3Yq1s04o1qOcbVHrWaSX",
      "include_colab_link": true
    },
    "kernelspec": {
      "name": "python3",
      "display_name": "Python 3"
    },
    "language_info": {
      "name": "python"
    }
  },
  "cells": [
    {
      "cell_type": "markdown",
      "metadata": {
        "id": "view-in-github",
        "colab_type": "text"
      },
      "source": [
        "<a href=\"https://colab.research.google.com/github/clairesheep/Intruduction-to-Computers/blob/main/0518.ipynb\" target=\"_parent\"><img src=\"https://colab.research.google.com/assets/colab-badge.svg\" alt=\"Open In Colab\"/></a>"
      ]
    },
    {
      "cell_type": "code",
      "execution_count": 1,
      "metadata": {
        "colab": {
          "base_uri": "https://localhost:8080/"
        },
        "id": "_Qw-HXkgg8K3",
        "outputId": "5f555f84-2013-4f78-e34c-6f6344836df1"
      },
      "outputs": [
        {
          "output_type": "stream",
          "name": "stdout",
          "text": [
            "1\n"
          ]
        }
      ],
      "source": [
        "a = 1\n",
        "print(a)"
      ]
    },
    {
      "cell_type": "code",
      "source": [
        "i = range(5)"
      ],
      "metadata": {
        "id": "yGzmXICbhqYH"
      },
      "execution_count": 2,
      "outputs": []
    },
    {
      "cell_type": "code",
      "source": [
        "print(type(i))"
      ],
      "metadata": {
        "colab": {
          "base_uri": "https://localhost:8080/"
        },
        "id": "b0yNIt8UiIcI",
        "outputId": "c034a934-4f96-4f03-9a60-8a1e27f496b3"
      },
      "execution_count": 3,
      "outputs": [
        {
          "output_type": "stream",
          "name": "stdout",
          "text": [
            "<class 'range'>\n"
          ]
        }
      ]
    },
    {
      "cell_type": "code",
      "source": [
        "print(i)"
      ],
      "metadata": {
        "colab": {
          "base_uri": "https://localhost:8080/"
        },
        "id": "cS0Jvx3xiLrW",
        "outputId": "e31286b4-56c5-40d5-f115-0b05bc45e75e"
      },
      "execution_count": 4,
      "outputs": [
        {
          "output_type": "stream",
          "name": "stdout",
          "text": [
            "range(0, 5)\n"
          ]
        }
      ]
    },
    {
      "cell_type": "code",
      "source": [
        "print(list(i))"
      ],
      "metadata": {
        "colab": {
          "base_uri": "https://localhost:8080/"
        },
        "id": "n948wt9siOgc",
        "outputId": "08226669-2740-44a8-d741-68c5a3c0a97f"
      },
      "execution_count": 5,
      "outputs": [
        {
          "output_type": "stream",
          "name": "stdout",
          "text": [
            "[0, 1, 2, 3, 4]\n"
          ]
        }
      ]
    },
    {
      "cell_type": "code",
      "source": [
        "j = range(10)"
      ],
      "metadata": {
        "id": "LBSd7VGoiUqJ"
      },
      "execution_count": 6,
      "outputs": []
    },
    {
      "cell_type": "code",
      "source": [
        "print(type(j))"
      ],
      "metadata": {
        "colab": {
          "base_uri": "https://localhost:8080/"
        },
        "id": "s7Vjm9uyigqB",
        "outputId": "2c5c87b2-f3ef-4c9e-8a43-045103203e5e"
      },
      "execution_count": 7,
      "outputs": [
        {
          "output_type": "stream",
          "name": "stdout",
          "text": [
            "<class 'range'>\n"
          ]
        }
      ]
    },
    {
      "cell_type": "code",
      "source": [
        "print(j)"
      ],
      "metadata": {
        "colab": {
          "base_uri": "https://localhost:8080/"
        },
        "id": "K1xDOfzzik7A",
        "outputId": "52520da7-691d-4b44-e964-277f23312f91"
      },
      "execution_count": 8,
      "outputs": [
        {
          "output_type": "stream",
          "name": "stdout",
          "text": [
            "range(0, 10)\n"
          ]
        }
      ]
    },
    {
      "cell_type": "code",
      "source": [
        "print(list(j))"
      ],
      "metadata": {
        "colab": {
          "base_uri": "https://localhost:8080/"
        },
        "id": "rsWu2aTiinGs",
        "outputId": "34771c76-be42-482a-9554-43e499ee9198"
      },
      "execution_count": 9,
      "outputs": [
        {
          "output_type": "stream",
          "name": "stdout",
          "text": [
            "[0, 1, 2, 3, 4, 5, 6, 7, 8, 9]\n"
          ]
        }
      ]
    },
    {
      "cell_type": "code",
      "source": [
        "a = range(3,8)\n",
        "print(list(a))"
      ],
      "metadata": {
        "colab": {
          "base_uri": "https://localhost:8080/"
        },
        "id": "7jAnJ7mWiqDe",
        "outputId": "254f81a5-b862-41d4-f4f3-a97708c8799e"
      },
      "execution_count": 10,
      "outputs": [
        {
          "output_type": "stream",
          "name": "stdout",
          "text": [
            "[3, 4, 5, 6, 7]\n"
          ]
        }
      ]
    },
    {
      "cell_type": "code",
      "source": [
        "b = range(-2,4)\n",
        "print(list(b))"
      ],
      "metadata": {
        "colab": {
          "base_uri": "https://localhost:8080/"
        },
        "id": "rKdQqdmNjffA",
        "outputId": "629aa85b-9ab9-49a4-d046-1fd03444c729"
      },
      "execution_count": 12,
      "outputs": [
        {
          "output_type": "stream",
          "name": "stdout",
          "text": [
            "[-2, -1, 0, 1, 2, 3]\n"
          ]
        }
      ]
    },
    {
      "cell_type": "code",
      "source": [
        "c = range(3,8,1) # 3,4,5,6,7\n",
        "d = range(3,8,2) # 3,5,7\n",
        "e = range(8,3,-1) # 8,7,6,5,4"
      ],
      "metadata": {
        "id": "RvkxBx8ujt42"
      },
      "execution_count": 13,
      "outputs": []
    },
    {
      "cell_type": "code",
      "source": [
        "print(list(c))\n",
        "print(list(d))\n",
        "print(list(e))"
      ],
      "metadata": {
        "colab": {
          "base_uri": "https://localhost:8080/"
        },
        "id": "ezBlosTSmDAb",
        "outputId": "f14da15e-64e6-4f78-f427-1e6625d06a06"
      },
      "execution_count": 14,
      "outputs": [
        {
          "output_type": "stream",
          "name": "stdout",
          "text": [
            "[3, 4, 5, 6, 7]\n",
            "[3, 5, 7]\n",
            "[8, 7, 6, 5, 4]\n"
          ]
        }
      ]
    },
    {
      "cell_type": "code",
      "source": [
        "f = range(9)\n",
        "g = range(1,10)\n",
        "h = range(1,10,2)\n",
        "i = range(10,1,-2)"
      ],
      "metadata": {
        "id": "nD4hNkShmMXt"
      },
      "execution_count": 24,
      "outputs": []
    },
    {
      "cell_type": "code",
      "source": [
        "print(list(f))\n",
        "print(list(g))\n",
        "print(list(h))\n",
        "print(list(i))"
      ],
      "metadata": {
        "colab": {
          "base_uri": "https://localhost:8080/"
        },
        "id": "ePCxS4LJn_H5",
        "outputId": "016652a7-9e56-4c08-d370-116c0d7f8961"
      },
      "execution_count": 25,
      "outputs": [
        {
          "output_type": "stream",
          "name": "stdout",
          "text": [
            "[0, 1, 2, 3, 4, 5, 6, 7, 8]\n",
            "[1, 2, 3, 4, 5, 6, 7, 8, 9]\n",
            "[1, 3, 5, 7, 9]\n",
            "[10, 8, 6, 4, 2]\n"
          ]
        }
      ]
    },
    {
      "cell_type": "code",
      "source": [
        "for n in range(3):\n",
        "    print(n,end = ',')"
      ],
      "metadata": {
        "colab": {
          "base_uri": "https://localhost:8080/"
        },
        "id": "tYAGScrmv9Ge",
        "outputId": "0a7208fe-6ce1-4e25-9ae0-45bfc12b5f28"
      },
      "execution_count": 38,
      "outputs": [
        {
          "output_type": "stream",
          "name": "stdout",
          "text": [
            "0,1,2,"
          ]
        }
      ]
    },
    {
      "cell_type": "code",
      "source": [
        "for n in range(10):\n",
        "    print(n,end = ',')"
      ],
      "metadata": {
        "colab": {
          "base_uri": "https://localhost:8080/"
        },
        "id": "9SUya6lIoMnD",
        "outputId": "5a0484c2-75d5-4b85-8ad9-af35773cf024"
      },
      "execution_count": 27,
      "outputs": [
        {
          "output_type": "stream",
          "name": "stdout",
          "text": [
            "0,1,2,3,4,5,6,7,8,9,"
          ]
        }
      ]
    },
    {
      "cell_type": "code",
      "source": [
        "test = int(input('請輸入一個正整數: '))\n",
        "for m in range(1,test+1):\n",
        "    print(m,end = ' ')"
      ],
      "metadata": {
        "colab": {
          "base_uri": "https://localhost:8080/"
        },
        "id": "EB0WmJRRsdqB",
        "outputId": "c7449146-e2c2-4f21-8b8c-7fed6cc73458"
      },
      "execution_count": 33,
      "outputs": [
        {
          "output_type": "stream",
          "name": "stdout",
          "text": [
            "請輸入一個正整數: 5\n",
            "1 2 3 4 5 "
          ]
        }
      ]
    },
    {
      "cell_type": "code",
      "source": [
        "test2 = int(input('請輸入一個正整數: '))\n",
        "for p in range(1,test2+1):\n",
        "    print(p,end = ' ')"
      ],
      "metadata": {
        "colab": {
          "base_uri": "https://localhost:8080/"
        },
        "id": "qwPc5KJBtXLd",
        "outputId": "1294edc3-9875-466c-e8df-30aba3299d42"
      },
      "execution_count": 35,
      "outputs": [
        {
          "output_type": "stream",
          "name": "stdout",
          "text": [
            "請輸入一個正整數: 12\n",
            "1 2 3 4 5 6 7 8 9 10 11 12 "
          ]
        }
      ]
    },
    {
      "cell_type": "code",
      "source": [
        "test = int(input('請輸入一個正整數: '))\n",
        "for m in range(1,test+1,2):\n",
        "    print(m,end = ' ')"
      ],
      "metadata": {
        "colab": {
          "base_uri": "https://localhost:8080/"
        },
        "id": "kk7AHiQDt-Tm",
        "outputId": "45cec686-e9d3-47ec-debb-67b6257be51a"
      },
      "execution_count": 36,
      "outputs": [
        {
          "output_type": "stream",
          "name": "stdout",
          "text": [
            "請輸入一個正整數: 10\n",
            "1 3 5 7 9 "
          ]
        }
      ]
    },
    {
      "cell_type": "code",
      "source": [
        "sum = 0\n",
        "for n in range(3):\n",
        "    sum = sum + n\n",
        "print(sum)"
      ],
      "metadata": {
        "colab": {
          "base_uri": "https://localhost:8080/"
        },
        "id": "h_teOli9uc-j",
        "outputId": "e3051a80-1a1d-47c8-c0da-8018eab04f32"
      },
      "execution_count": 39,
      "outputs": [
        {
          "output_type": "stream",
          "name": "stdout",
          "text": [
            "3\n"
          ]
        }
      ]
    },
    {
      "cell_type": "code",
      "source": [
        "sum = 0\n",
        "for n in range(5):\n",
        "    sum = sum + n\n",
        "print(sum)"
      ],
      "metadata": {
        "colab": {
          "base_uri": "https://localhost:8080/"
        },
        "id": "8K7O5hGku7rG",
        "outputId": "cfc34cf0-93b5-4438-9fc4-e6722fd04a8e"
      },
      "execution_count": 41,
      "outputs": [
        {
          "output_type": "stream",
          "name": "stdout",
          "text": [
            "10\n"
          ]
        }
      ]
    },
    {
      "cell_type": "code",
      "source": [
        "text = int(input('請輸入一個正整數:'))\n",
        "sum = 0\n",
        "for n in range(text + 1):\n",
        "    sum = sum + n\n",
        "print(1,'到',text,'的整數和為',sum)"
      ],
      "metadata": {
        "colab": {
          "base_uri": "https://localhost:8080/"
        },
        "id": "mbOPXABHx5H1",
        "outputId": "db67e185-7cf4-4619-adca-b12eccb2468a"
      },
      "execution_count": 42,
      "outputs": [
        {
          "output_type": "stream",
          "name": "stdout",
          "text": [
            "請輸入一個正整數:10\n",
            "1 到 10 的整數和為 55\n"
          ]
        }
      ]
    },
    {
      "cell_type": "code",
      "source": [
        "text = int(input('請輸入一個正整數:'))\n",
        "sum = 0\n",
        "for n in range(text + 1):\n",
        "    sum = sum + n\n",
        "print(1,'到',text,'的整數和為',sum)"
      ],
      "metadata": {
        "colab": {
          "base_uri": "https://localhost:8080/"
        },
        "id": "cG_FIlV42zTj",
        "outputId": "ffb6f6cc-13fc-4ec4-929c-7e946046ef4b"
      },
      "execution_count": 43,
      "outputs": [
        {
          "output_type": "stream",
          "name": "stdout",
          "text": [
            "請輸入一個正整數:50\n",
            "1 到 50 的整數和為 1275\n"
          ]
        }
      ]
    },
    {
      "cell_type": "code",
      "source": [
        "test = int(input('請輸入一個正整數:'))\n",
        "sum = 0\n",
        "for n in range(1,test + 1):\n",
        "    sum = sum + n\n",
        "    print(1,'到',n,'的整數和為:',sum)"
      ],
      "metadata": {
        "colab": {
          "base_uri": "https://localhost:8080/"
        },
        "id": "Tbxwtd5a27IG",
        "outputId": "9643d83f-7913-4d6b-a978-f6b5aa836da0"
      },
      "execution_count": 47,
      "outputs": [
        {
          "output_type": "stream",
          "name": "stdout",
          "text": [
            "請輸入一個正整數:10\n",
            "1 到 1 的整數和為: 1\n",
            "1 到 2 的整數和為: 3\n",
            "1 到 3 的整數和為: 6\n",
            "1 到 4 的整數和為: 10\n",
            "1 到 5 的整數和為: 15\n",
            "1 到 6 的整數和為: 21\n",
            "1 到 7 的整數和為: 28\n",
            "1 到 8 的整數和為: 36\n",
            "1 到 9 的整數和為: 45\n",
            "1 到 10 的整數和為: 55\n"
          ]
        }
      ]
    },
    {
      "cell_type": "code",
      "source": [
        ""
      ],
      "metadata": {
        "id": "WzRXMo_L5Nti"
      },
      "execution_count": null,
      "outputs": []
    }
  ]
}